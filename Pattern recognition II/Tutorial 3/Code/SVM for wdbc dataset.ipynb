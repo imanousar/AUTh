{
 "cells": [
  {
   "cell_type": "code",
   "execution_count": 2,
   "metadata": {},
   "outputs": [],
   "source": [
    "# to read csv files\n",
    "import pandas as pd\n",
    "\n",
    "import numpy as np\n",
    "\n",
    "# we read our csv file\n",
    "data = pd.read_csv('wdbc.csv')\n",
    "\n",
    "#print(data)"
   ]
  },
  {
   "cell_type": "code",
   "execution_count": 3,
   "metadata": {},
   "outputs": [],
   "source": [
    "# We assign dependent variable to (label) a variable. You should know where is your dependent data and you should exactly choose that with slicing syntax.\n",
    "label = data.iloc[:,1:2].values\n",
    "\n",
    "#print(label)"
   ]
  },
  {
   "cell_type": "code",
   "execution_count": 4,
   "metadata": {},
   "outputs": [],
   "source": [
    "# We are dividing our data to test and train.\n",
    "from sklearn.model_selection import train_test_split\n",
    "#data.iloc[:,2:] means we choose the data for x_train.\n",
    "x_train, x_test, y_train, y_test = train_test_split(data.iloc[:,2:],label,test_size=0.33,random_state=0)\n",
    "\n",
    "#print(\"x_train result: \\n\",x_train,\"\\n\\n x_test result: \\n\",x_test,\"\\n\\n y_train result: \\n\",y_train,\"\\n\\n y_test result: \\n\",y_test)"
   ]
  },
  {
   "cell_type": "code",
   "execution_count": 20,
   "metadata": {},
   "outputs": [
    {
     "name": "stdout",
     "output_type": "stream",
     "text": [
      "SVC(C=1.0, break_ties=False, cache_size=200, class_weight=None, coef0=0.0,\n",
      "    decision_function_shape='ovr', degree=3, gamma='scale', kernel='rbf',\n",
      "    max_iter=-1, probability=False, random_state=None, shrinking=True,\n",
      "    tol=0.001, verbose=False)\n"
     ]
    }
   ],
   "source": [
    "# We import SVC class ( Support Vector Classifier )\n",
    "from sklearn.svm import SVC\n",
    "\n",
    "# We created a object from SVC class\n",
    "# Different kernel trick types can be given as parameters.\n",
    "# It will be observed that the success rate has changed. ( ‘linear’, ‘poly’, ‘rbf’, ‘sigmoid’, ‘precomputed’ )\n",
    "# default value for kernel is rbf\n",
    "svc = SVC(kernel = 'rbf')\n",
    "\n",
    "#You can see the SVM's parameters from here.\n",
    "print(svc)"
   ]
  },
  {
   "cell_type": "code",
   "execution_count": 21,
   "metadata": {},
   "outputs": [],
   "source": [
    "# Training the machine\n",
    "svc.fit(x_train,np.ravel(y_train))\n",
    "\n",
    "# We gave the test data set and to provide diagnosis prediction\n",
    "result = svc.predict(x_test)\n",
    "\n",
    "#print(result)"
   ]
  },
  {
   "cell_type": "code",
   "execution_count": 11,
   "metadata": {},
   "outputs": [
    {
     "name": "stdout",
     "output_type": "stream",
     "text": [
      "[[74 47]\n",
      " [56 11]]\n"
     ]
    }
   ],
   "source": [
    "from sklearn.metrics import confusion_matrix\n",
    "# We enter the data we will compare as parameters.\n",
    "# y_test : We enter the true Diagnosis test data\n",
    "# result : Diagnosis data that we estimate from x_test data\n",
    "# Confusion Matrix Result :\n",
    "# [[74 47]\n",
    "#  [56 11]]\n",
    "#cm = confusion_matrix(y_test,result)\n",
    "#print(cm)\n"
   ]
  },
  {
   "cell_type": "code",
   "execution_count": 22,
   "metadata": {},
   "outputs": [
    {
     "name": "stdout",
     "output_type": "stream",
     "text": [
      "0.925531914893617\n"
     ]
    }
   ],
   "source": [
    "# Success Rate\n",
    "from sklearn.metrics import accuracy_score\n",
    "accuracy = accuracy_score(y_test, result)\n",
    "# Result : 0.4521276595744681\n",
    "print(accuracy)"
   ]
  },
  {
   "cell_type": "code",
   "execution_count": 23,
   "metadata": {},
   "outputs": [
    {
     "name": "stdout",
     "output_type": "stream",
     "text": [
      "0.9002624671916011\n"
     ]
    }
   ],
   "source": [
    "result_2 = svc.predict(x_train)\n",
    "acc = accuracy_score(y_train, result_2)\n",
    "print(acc)"
   ]
  },
  {
   "cell_type": "code",
   "execution_count": null,
   "metadata": {},
   "outputs": [],
   "source": []
  }
 ],
 "metadata": {
  "kernelspec": {
   "display_name": "Python 3",
   "language": "python",
   "name": "python3"
  },
  "language_info": {
   "codemirror_mode": {
    "name": "ipython",
    "version": 3
   },
   "file_extension": ".py",
   "mimetype": "text/x-python",
   "name": "python",
   "nbconvert_exporter": "python",
   "pygments_lexer": "ipython3",
   "version": "3.6.7"
  }
 },
 "nbformat": 4,
 "nbformat_minor": 4
}
