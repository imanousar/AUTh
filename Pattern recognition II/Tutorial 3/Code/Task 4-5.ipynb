{
 "cells": [
  {
   "cell_type": "code",
   "execution_count": 1,
   "metadata": {},
   "outputs": [],
   "source": [
    "# to read csv files\n",
    "import pandas as pd\n",
    "\n",
    "import numpy as np\n",
    "\n",
    "import matplotlib.pyplot as plt\n",
    "\n",
    "# we read our csv file\n",
    "data = pd.read_csv('wdbc_target_value=1.csv')"
   ]
  },
  {
   "cell_type": "code",
   "execution_count": 3,
   "metadata": {},
   "outputs": [],
   "source": [
    "# We assign dependent variable to (label) a variable. You should know where is your dependent data and you should exactly choose that with slicing syntax.\n",
    "label = data.iloc[:,1:2].values\n",
    "\n",
    "# We are dividing our data to test and train.\n",
    "from sklearn.model_selection import train_test_split\n",
    "x_train, x_test, y_train, y_test = train_test_split(data.iloc[:,2:],label,test_size=0.33,random_state=0)\n",
    "\n",
    "# We import SVC class ( Support Vector Classifier )\n",
    "from sklearn.svm import SVC"
   ]
  },
  {
   "cell_type": "code",
   "execution_count": 11,
   "metadata": {},
   "outputs": [],
   "source": [
    "# We created a object from SVC class\n",
    "# Different kernel trick types can be given as parameters.\n",
    "# It will be observed that the success rate has changed. ( ‘linear’, ‘poly’, ‘rbf’, ‘sigmoid’, ‘precomputed’ )\n",
    "# default value for kernel is rbf\n",
    "svc = SVC(kernel = 'linear')\n",
    "\n",
    "\n",
    "# Training the machine\n",
    "svc.fit(x_train,np.ravel(y_train))\n",
    "\n",
    "# We gave the test data set and to provide diagnosis prediction\n",
    "result = svc.predict(x_test)"
   ]
  },
  {
   "cell_type": "code",
   "execution_count": 12,
   "metadata": {},
   "outputs": [
    {
     "name": "stdout",
     "output_type": "stream",
     "text": [
      "[[ 65   2]\n",
      " [  6 115]]\n"
     ]
    }
   ],
   "source": [
    "from sklearn.metrics import confusion_matrix\n",
    "# We enter the data we will compare as parameters.\n",
    "# y_test : We enter the true Diagnosis test data\n",
    "# result : Diagnosis data that we estimate from x_test data\n",
    "# Confusion Matrix Result :\n",
    "# [[74 47]\n",
    "#  [56 11]]\n",
    "cm = confusion_matrix(y_test,result)\n",
    "print(cm)\n",
    "\n",
    "from sklearn import svm"
   ]
  },
  {
   "cell_type": "code",
   "execution_count": 13,
   "metadata": {},
   "outputs": [
    {
     "name": "stdout",
     "output_type": "stream",
     "text": [
      "              precision    recall  f1-score   support\n",
      "\n",
      "           0       0.92      0.97      0.94        67\n",
      "           1       0.98      0.95      0.97       121\n",
      "\n",
      "    accuracy                           0.96       188\n",
      "   macro avg       0.95      0.96      0.95       188\n",
      "weighted avg       0.96      0.96      0.96       188\n",
      "\n"
     ]
    }
   ],
   "source": [
    "from sklearn import metrics\n",
    "\n",
    "#You can easily use this library to see Precision,Recall,f1-score,accury.\n",
    "print(metrics.classification_report(y_test, result))"
   ]
  },
  {
   "cell_type": "code",
   "execution_count": 14,
   "metadata": {},
   "outputs": [
    {
     "name": "stdout",
     "output_type": "stream",
     "text": [
      "\n",
      "\n",
      " log los: 1.4697436720965211\n"
     ]
    }
   ],
   "source": [
    "from sklearn.metrics import log_loss\n",
    "\n",
    "#You need to have numerical target attribute to use log loss.\n",
    "print(\"\\n\\n log los:\",log_loss(y_test, result))\n"
   ]
  },
  {
   "cell_type": "code",
   "execution_count": 15,
   "metadata": {},
   "outputs": [
    {
     "data": {
      "text/plain": [
       "<matplotlib.legend.Legend at 0x1f7dc496d30>"
      ]
     },
     "execution_count": 15,
     "metadata": {},
     "output_type": "execute_result"
    },
    {
     "data": {
      "image/png": "[encoded data removed]",
      "text/plain": [
       "<Figure size 864x432 with 1 Axes>"
      ]
     },
     "metadata": {
      "needs_background": "light"
     },
     "output_type": "display_data"
    }
   ],
   "source": [
    "from sklearn.metrics import roc_curve\n",
    "\n",
    "#If you change the key word you can see the roc curve changes in plot. SVC(kernel = 'the key word')\n",
    "\n",
    "y_score = svc.fit(x_train,np.ravel(y_train)).decision_function(x_test)\n",
    "\n",
    "fpr, tpr, thresholds = roc_curve(y_test, np.ravel(y_score))\n",
    "\n",
    "fig, ax = plt.subplots(1, figsize=(12, 6))\n",
    "plt.plot(fpr, tpr, color='blue', label='ROC curve for SVM')\n",
    "plt.plot([0, 1], [0, 1], 'k--')\n",
    "plt.xlabel('False Positive Rate (1 - specificity)')\n",
    "plt.ylabel('True Positive Rate (sensitivity)')\n",
    "plt.title('ROC Curve for Breast Cancer Classifer')\n",
    "plt.legend(loc=\"lower right\")"
   ]
  },
  {
   "cell_type": "code",
   "execution_count": 40,
   "metadata": {},
   "outputs": [
    {
     "name": "stdout",
     "output_type": "stream",
     "text": [
      "[0.88596491 0.93859649 0.93859649 0.94736842 0.92920354]\n"
     ]
    }
   ],
   "source": [
    "from sklearn.model_selection import cross_val_score\n",
    "from sklearn.neighbors import KNeighborsClassifier\n",
    "\n",
    "# You can change the kernel key. Then the value will change.\n",
    "\n",
    "clf = KNeighborsClassifier(n_neighbors=5,metric='minkowski')\n",
    "\n",
    "scores = cross_val_score(clf, data.iloc[:,2:], np.ravel(data.iloc[:,1:2].values), cv=5)\n",
    "\n",
    "print(scores)"
   ]
  },
  {
   "cell_type": "code",
   "execution_count": 26,
   "metadata": {},
   "outputs": [
    {
     "name": "stdout",
     "output_type": "stream",
     "text": [
      "0.9574468085106383\n"
     ]
    }
   ],
   "source": [
    "# Success Rate\n",
    "from sklearn.metrics import accuracy_score\n",
    "accuracy = accuracy_score(y_test, result)\n",
    "# Result : 0.4521276595744681\n",
    "print(accuracy)\n",
    "\n"
   ]
  },
  {
   "cell_type": "code",
   "execution_count": 41,
   "metadata": {},
   "outputs": [
    {
     "data": {
      "text/plain": [
       "0.9279459711224964"
      ]
     },
     "execution_count": 41,
     "metadata": {},
     "output_type": "execute_result"
    }
   ],
   "source": [
    "sum(scores)/len(scores)"
   ]
  },
  {
   "cell_type": "code",
   "execution_count": null,
   "metadata": {},
   "outputs": [],
   "source": []
  }
 ],
 "metadata": {
  "kernelspec": {
   "display_name": "Python 3",
   "language": "python",
   "name": "python3"
  },
  "language_info": {
   "codemirror_mode": {
    "name": "ipython",
    "version": 3
   },
   "file_extension": ".py",
   "mimetype": "text/x-python",
   "name": "python",
   "nbconvert_exporter": "python",
   "pygments_lexer": "ipython3",
   "version": "3.6.7"
  }
 },
 "nbformat": 4,
 "nbformat_minor": 4
}
