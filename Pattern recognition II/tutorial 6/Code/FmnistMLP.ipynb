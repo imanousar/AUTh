{
 "cells": [
  {
   "cell_type": "code",
   "execution_count": 41,
   "metadata": {},
   "outputs": [],
   "source": [
    "import numpy as np\n",
    "import pandas as pd\n",
    "from matplotlib import pyplot as plt\n",
    "from sklearn.neural_network import MLPClassifier\n",
    "from sklearn.model_selection import train_test_split\n",
    "from sklearn.metrics import accuracy_score\n",
    "from sklearn.decomposition import PCA\n",
    "from sklearn.metrics import confusion_matrix\n",
    "import seaborn as sn\n",
    "\n",
    "%matplotlib inline"
   ]
  },
  {
   "cell_type": "code",
   "execution_count": 42,
   "metadata": {},
   "outputs": [],
   "source": [
    "data=pd.read_csv('fmnist.csv')\n"
   ]
  },
  {
   "cell_type": "markdown",
   "metadata": {},
   "source": [
    "<h1>Loading data</h1>\n",
    "<h2>You can select</h2>\n",
    "<lu>\n",
    "    <li>Amount of intances with intances_n</li>\n",
    "       <li>Amount of classes with Classes_</li>\n",
    "    \n",
    "</lu>\n"
   ]
  },
  {
   "cell_type": "code",
   "execution_count": 43,
   "metadata": {},
   "outputs": [
    {
     "name": "stdout",
     "output_type": "stream",
     "text": [
      "(6000, 784)\n",
      "[2 9 6 ... 5 7 3]\n"
     ]
    }
   ],
   "source": [
    "intances_n=6000\n",
    "X = data.iloc[0:intances_n,1:].values\n",
    "Y = data.iloc[0:intances_n,0].values\n",
    "print(X.shape)\n",
    "print(Y)\n",
    "\n",
    "classes_a=[3,4,5]\n",
    "classes=np.where((Y==classes_a[0])|(Y==classes_a[1])|(Y==classes_a[2]))\n",
    "x_class=X[classes]\n",
    "y_class=Y[classes]\n",
    "##for selecting different classes\n",
    "##just put x_class and y_class variables in train_test_split instead of X and Y\n",
    "##changing classes also effect the PCA results\n"
   ]
  },
  {
   "cell_type": "code",
   "execution_count": 44,
   "metadata": {},
   "outputs": [],
   "source": [
    "##Change test_size for different results\n",
    "x_train,x_test,y_train,y_test=train_test_split(X,Y,test_size=0.20,random_state=3)"
   ]
  },
  {
   "cell_type": "markdown",
   "metadata": {},
   "source": [
    "<h1>Fitting model</h1>"
   ]
  },
  {
   "cell_type": "code",
   "execution_count": 45,
   "metadata": {},
   "outputs": [
    {
     "data": {
      "text/plain": [
       "MLPClassifier(activation='tanh', alpha=0.0001, batch_size='auto', beta_1=0.9,\n",
       "              beta_2=0.999, early_stopping=False, epsilon=1e-08,\n",
       "              hidden_layer_sizes=30, learning_rate='constant',\n",
       "              learning_rate_init=0.001, max_iter=200, momentum=0.9,\n",
       "              n_iter_no_change=10, nesterovs_momentum=True, power_t=0.5,\n",
       "              random_state=1, shuffle=True, solver='sgd', tol=0.0001,\n",
       "              validation_fraction=0.1, verbose=False, warm_start=False)"
      ]
     },
     "execution_count": 45,
     "metadata": {},
     "output_type": "execute_result"
    }
   ],
   "source": [
    "##change activation function,solver,hidden_layer_sizes,max_iter and learning rate for different results\n",
    "## N represent the number of neurons in each later   hidden_layer_size(N,N,N.....) ie\n",
    "##ie hidden_layer_size(20,20) represents two layers with 20 neurons\n",
    "\n",
    "\n",
    "activation=\"tanh\"##activation{‘identity’, ‘logistic’, ‘tanh’, ‘relu’}, default=’relu’\n",
    "solver=\"sgd\"##  solver{‘lbfgs’, ‘sgd’, ‘adam’}, default=’adam’\n",
    "max_iter=200 ##max_iterint, default=200 note:increasing max iter can take longer time to proccess\n",
    "learning_rate_init=0.001\n",
    "nn=MLPClassifier(activation=activation,solver=solver,hidden_layer_sizes=(30),random_state=1,\n",
    "max_iter=max_iter,learning_rate_init=learning_rate_init)\n",
    "nn.fit(x_train,y_train)"
   ]
  },
  {
   "cell_type": "markdown",
   "metadata": {},
   "source": [
    "<h1>Predicting and accuracy results</h1>"
   ]
  },
  {
   "cell_type": "code",
   "execution_count": 46,
   "metadata": {},
   "outputs": [
    {
     "name": "stdout",
     "output_type": "stream",
     "text": [
      "real Coat\n",
      "predicted Coat\n"
     ]
    },
    {
     "data": {
      "image/png": "[encoded data removed]",
      "text/plain": [
       "<Figure size 432x288 with 1 Axes>"
      ]
     },
     "metadata": {
      "needs_background": "light"
     },
     "output_type": "display_data"
    },
    {
     "name": "stdout",
     "output_type": "stream",
     "text": [
      "real  Shirt\n",
      "predicted  Shirt\n"
     ]
    },
    {
     "data": {
      "image/png": "[encoded data removed]",
      "text/plain": [
       "<Figure size 432x288 with 1 Axes>"
      ]
     },
     "metadata": {
      "needs_background": "light"
     },
     "output_type": "display_data"
    },
    {
     "name": "stdout",
     "output_type": "stream",
     "text": [
      "real Bag\n",
      "predicted Bag\n"
     ]
    },
    {
     "data": {
      "image/png": "[encoded data removed]",
      "text/plain": [
       "<Figure size 432x288 with 1 Axes>"
      ]
     },
     "metadata": {
      "needs_background": "light"
     },
     "output_type": "display_data"
    },
    {
     "name": "stdout",
     "output_type": "stream",
     "text": [
      "real Coat\n",
      "predicted Coat\n"
     ]
    },
    {
     "data": {
      "image/png": "[encoded data removed]",
      "text/plain": [
       "<Figure size 432x288 with 1 Axes>"
      ]
     },
     "metadata": {
      "needs_background": "light"
     },
     "output_type": "display_data"
    },
    {
     "name": "stdout",
     "output_type": "stream",
     "text": [
      "real T-shirt/top\n",
      "predicted T-shirt/top\n"
     ]
    },
    {
     "data": {
      "image/png": "[encoded data removed]",
      "text/plain": [
       "<Figure size 432x288 with 1 Axes>"
      ]
     },
     "metadata": {
      "needs_background": "light"
     },
     "output_type": "display_data"
    },
    {
     "name": "stdout",
     "output_type": "stream",
     "text": [
      "[[107   2   1  10   1   0   3   0   0   0]\n",
      " [  1 109   2   1   0   0   0   0   0   0]\n",
      " [  3   1  22   0  27   0  71   0   2   0]\n",
      " [  8   6   0  98   5   0   0   0   0   0]\n",
      " [  1   1   4   5  64   0  44   0   1   0]\n",
      " [  1   0   0   0   0 104   0   3   0  12]\n",
      " [ 29   1   5  11   5   0  80   0   0   0]\n",
      " [  0   0   0   0   0  31   0  79   0   9]\n",
      " [  0   0   0   1   4   1   5   0 107   0]\n",
      " [  0   0   0   0   0   3   0   4   0 105]]\n"
     ]
    },
    {
     "data": {
      "image/png": "[encoded data removed]",
      "text/plain": [
       "<Figure size 288x288 with 2 Axes>"
      ]
     },
     "metadata": {
      "needs_background": "light"
     },
     "output_type": "display_data"
    }
   ],
   "source": [
    "pred=nn.predict(x_test)\n",
    "labels=[\"T-shirt/top\",\"Trouser\",\"Pullover\",\" Dress\",\"Coat\",\"Sandal\",\" Shirt\",\" Sneaker\", \"Bag\", \n",
    "        \"Ankle boot\"]\n",
    "accuracy=accuracy_score(y_test,pred)\n",
    "numberof_images_display=5\n",
    "n= np.random.randint(0,len(x_test),numberof_images_display)\n",
    "for i in n:\n",
    "    two_d = (np.reshape(x_test[i], (28, 28)) * 255).astype(np.uint8)\n",
    "   \n",
    "    print(\"real\",labels[y_test[i]],)\n",
    "    print(\"predicted\",labels[pred[i]])\n",
    "                                                \n",
    "    plt.imshow(two_d, interpolation='nearest',cmap='gray')\n",
    "    plt.show()\n",
    "    \n",
    "    \n",
    "confusionmatrix=confusion_matrix(y_test,pred)\n",
    "\n",
    "\n",
    "plt.matshow(confusionmatrix)\n",
    "print(confusionmatrix)\n",
    "plt.title('Confusion Matrix for Validation Data')\n",
    "plt.colorbar()\n",
    "plt.ylabel('True label')\n",
    "plt.xlabel('Predicted label')\n",
    "plt.show()\n",
    "\n",
    "\n"
   ]
  },
  {
   "cell_type": "code",
   "execution_count": 47,
   "metadata": {},
   "outputs": [
    {
     "name": "stdout",
     "output_type": "stream",
     "text": [
      "0.7291666666666666\n"
     ]
    }
   ],
   "source": [
    "print(accuracy)"
   ]
  },
  {
   "cell_type": "markdown",
   "metadata": {},
   "source": [
    "<h1>Running PCA in Dataset</h1>"
   ]
  },
  {
   "cell_type": "code",
   "execution_count": 48,
   "metadata": {},
   "outputs": [],
   "source": [
    "##change number of dimentions also for getting different results\n",
    "N_dimentions=30\n",
    "pca = PCA(n_components=N_dimentions, svd_solver='randomized',\n",
    "          whiten=True).fit(x_train)\n",
    "\n",
    "\n",
    "x_train_pca = pca.transform(x_train)\n",
    "x_test_pca=pca.transform(x_test)\n"
   ]
  },
  {
   "cell_type": "markdown",
   "metadata": {},
   "source": [
    "<h1>Fitting model with PCA results</h1>"
   ]
  },
  {
   "cell_type": "code",
   "execution_count": 49,
   "metadata": {},
   "outputs": [
    {
     "name": "stderr",
     "output_type": "stream",
     "text": [
      "D:\\Anaconda\\lib\\site-packages\\sklearn\\neural_network\\multilayer_perceptron.py:566: ConvergenceWarning: Stochastic Optimizer: Maximum iterations (200) reached and the optimization hasn't converged yet.\n",
      "  % self.max_iter, ConvergenceWarning)\n"
     ]
    },
    {
     "data": {
      "text/plain": [
       "MLPClassifier(activation='tanh', alpha=0.0001, batch_size='auto', beta_1=0.9,\n",
       "              beta_2=0.999, early_stopping=False, epsilon=1e-08,\n",
       "              hidden_layer_sizes=30, learning_rate='constant',\n",
       "              learning_rate_init=0.001, max_iter=200, momentum=0.9,\n",
       "              n_iter_no_change=10, nesterovs_momentum=True, power_t=0.5,\n",
       "              random_state=1, shuffle=True, solver='sgd', tol=0.0001,\n",
       "              validation_fraction=0.1, verbose=False, warm_start=False)"
      ]
     },
     "execution_count": 49,
     "metadata": {},
     "output_type": "execute_result"
    }
   ],
   "source": [
    "##change activation function,solver,hidden_layer_sizes,max_iter and learning rate for different results\n",
    "## N represent the number of neurons in each later   hidden_layer_size(N,N,N.....) ie\n",
    "##ie hidden_layer_size(20,20) represents two layers with 20 neurons\n",
    "\n",
    "\n",
    "activation=\"tanh\"##activation{‘identity’, ‘logistic’, ‘tanh’, ‘relu’}, default=’relu’\n",
    "solver=\"sgd\"##  solver{‘lbfgs’, ‘sgd’, ‘adam’}, default=’adam’\n",
    "max_iter=200 ##max_iterint, default=200 note:increasing max iter can take longer time to proccess\n",
    "learning_rate_init=0.001\n",
    "nn=MLPClassifier(activation=activation,solver=solver,hidden_layer_sizes=(30),random_state=1,\n",
    "max_iter=max_iter,learning_rate_init=learning_rate_init)\n",
    "nn.fit(x_train_pca,y_train)"
   ]
  },
  {
   "cell_type": "markdown",
   "metadata": {},
   "source": [
    "<h1>Predicting and accuracy results with PCA included</h1>"
   ]
  },
  {
   "cell_type": "code",
   "execution_count": 50,
   "metadata": {},
   "outputs": [
    {
     "name": "stdout",
     "output_type": "stream",
     "text": [
      "real  Shirt\n",
      "predicted Bag\n"
     ]
    },
    {
     "data": {
      "image/png": "[encoded data removed]",
      "text/plain": [
       "<Figure size 432x288 with 1 Axes>"
      ]
     },
     "metadata": {
      "needs_background": "light"
     },
     "output_type": "display_data"
    },
    {
     "name": "stdout",
     "output_type": "stream",
     "text": [
      "real  Shirt\n",
      "predicted  Shirt\n"
     ]
    },
    {
     "data": {
      "image/png": "[encoded data removed]",
      "text/plain": [
       "<Figure size 432x288 with 1 Axes>"
      ]
     },
     "metadata": {
      "needs_background": "light"
     },
     "output_type": "display_data"
    },
    {
     "name": "stdout",
     "output_type": "stream",
     "text": [
      "real Sandal\n",
      "predicted Sandal\n"
     ]
    },
    {
     "data": {
      "image/png": "[encoded data removed]",
      "text/plain": [
       "<Figure size 432x288 with 1 Axes>"
      ]
     },
     "metadata": {
      "needs_background": "light"
     },
     "output_type": "display_data"
    },
    {
     "name": "stdout",
     "output_type": "stream",
     "text": [
      "real T-shirt/top\n",
      "predicted T-shirt/top\n"
     ]
    },
    {
     "data": {
      "image/png": "[encoded data removed]",
      "text/plain": [
       "<Figure size 432x288 with 1 Axes>"
      ]
     },
     "metadata": {
      "needs_background": "light"
     },
     "output_type": "display_data"
    },
    {
     "name": "stdout",
     "output_type": "stream",
     "text": [
      "real Bag\n",
      "predicted Bag\n"
     ]
    },
    {
     "data": {
      "image/png": "[encoded data removed]",
      "text/plain": [
       "<Figure size 432x288 with 1 Axes>"
      ]
     },
     "metadata": {
      "needs_background": "light"
     },
     "output_type": "display_data"
    },
    {
     "name": "stdout",
     "output_type": "stream",
     "text": [
      "[[107   1   1   9   0   1   4   0   1   0]\n",
      " [  0 108   2   3   0   0   0   0   0   0]\n",
      " [  2   0  82   2  18   1  18   0   3   0]\n",
      " [  7   4   0 101   5   0   0   0   0   0]\n",
      " [  0   0   3   6  94   0  16   0   1   0]\n",
      " [  0   0   0   0   0 105   0   9   2   4]\n",
      " [ 27   0  11  10   9   1  67   0   6   0]\n",
      " [  0   0   0   0   0  13   0  97   1   8]\n",
      " [  0   0   2   1   0   0   1   0 114   0]\n",
      " [  0   0   0   0   0   2   0   4   0 106]]\n"
     ]
    },
    {
     "data": {
      "image/png": "[encoded data removed]",
      "text/plain": [
       "<Figure size 288x288 with 2 Axes>"
      ]
     },
     "metadata": {
      "needs_background": "light"
     },
     "output_type": "display_data"
    }
   ],
   "source": [
    "\n",
    "pred=nn.predict(x_test_pca)\n",
    "labels=[\"T-shirt/top\",\"Trouser\",\"Pullover\",\" Dress\",\"Coat\",\"Sandal\",\" Shirt\",\" Sneaker\", \"Bag\", \n",
    "        \"Ankle boot\"]\n",
    "accuracy=accuracy_score(y_test,pred)\n",
    "numberof_images_display=5\n",
    "n= np.random.randint(0,len(x_test),numberof_images_display)\n",
    "for i in n:\n",
    "    two_d = (np.reshape(x_test[i], (28, 28)) * 255).astype(np.uint8)\n",
    "   \n",
    "    print(\"real\",labels[y_test[i]],)\n",
    "    print(\"predicted\",labels[pred[i]])\n",
    "                                                \n",
    "    plt.imshow(two_d, interpolation='nearest',cmap='gray')\n",
    "    plt.show()\n",
    "    \n",
    "    \n",
    "confusionmatrix=confusion_matrix(y_test,pred)\n",
    "\n",
    "plt.matshow(confusionmatrix)\n",
    "print(confusionmatrix)\n",
    "plt.title('Confusion Matrix for Validation Data')\n",
    "plt.colorbar()\n",
    "plt.ylabel('True label')\n",
    "plt.xlabel('Predicted label')\n",
    "plt.show()\n",
    "\n",
    "##print(len(nn.coefs_))\n",
    "##print(len(nn.coefs_[1]))\n",
    "#print(nn.coefs_)\n",
    "\n",
    "\n",
    "\n"
   ]
  },
  {
   "cell_type": "code",
   "execution_count": 51,
   "metadata": {},
   "outputs": [
    {
     "name": "stdout",
     "output_type": "stream",
     "text": [
      "Accuracy 0.8175\n"
     ]
    }
   ],
   "source": [
    "print(\"Accuracy\",accuracy)"
   ]
  },
  {
   "cell_type": "code",
   "execution_count": null,
   "metadata": {},
   "outputs": [],
   "source": []
  }
 ],
 "metadata": {
  "kernelspec": {
   "display_name": "Python 3",
   "language": "python",
   "name": "python3"
  },
  "language_info": {
   "codemirror_mode": {
    "name": "ipython",
    "version": 3
   },
   "file_extension": ".py",
   "mimetype": "text/x-python",
   "name": "python",
   "nbconvert_exporter": "python",
   "pygments_lexer": "ipython3",
   "version": "3.7.4"
  }
 },
 "nbformat": 4,
 "nbformat_minor": 2
}
