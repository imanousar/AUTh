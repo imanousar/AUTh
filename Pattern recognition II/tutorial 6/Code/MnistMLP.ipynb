{
 "cells": [
  {
   "cell_type": "code",
   "execution_count": 1,
   "metadata": {},
   "outputs": [],
   "source": [
    "import numpy as np\n",
    "import pandas as pd\n",
    "from matplotlib import pyplot as plt\n",
    "from sklearn.neural_network import MLPClassifier\n",
    "from sklearn.model_selection import train_test_split\n",
    "from sklearn.metrics import accuracy_score\n",
    "from sklearn.decomposition import PCA\n",
    "from sklearn.metrics import confusion_matrix\n",
    "import seaborn as sn\n",
    "%matplotlib inline"
   ]
  },
  {
   "cell_type": "code",
   "execution_count": 2,
   "metadata": {},
   "outputs": [],
   "source": [
    "data=pd.read_csv('mnist.csv')\n",
    "\n"
   ]
  },
  {
   "cell_type": "markdown",
   "metadata": {},
   "source": [
    "<h1>Loading data</h1>\n",
    "<h2>You can select</h2>\n",
    "<lu>\n",
    "    <li>Amount of intances with intances_n</li>\n",
    "       <li>Amount of classes with Classes_</li>\n",
    "    \n",
    "</lu>\n"
   ]
  },
  {
   "cell_type": "code",
   "execution_count": 3,
   "metadata": {},
   "outputs": [
    {
     "name": "stdout",
     "output_type": "stream",
     "text": [
      "(4000, 784)\n"
     ]
    }
   ],
   "source": [
    "intances_n=4000\n",
    "X = data.iloc[0:intances_n,1:].values\n",
    "Y = data.iloc[0:intances_n,0].values\n",
    "print(X.shape)\n",
    "\n",
    "##for selecting different classes\n",
    "classes_array=[3,4,5]\n",
    "classes=np.where((Y==classes_array[0])|(Y==classes_array[1])|(Y==classes_array[2]))\n",
    "x_class=X[classes]\n",
    "y_class=Y[classes]\n",
    "\n",
    "##just put x_class and y_class variables in train_test_split instead of X and Y\n",
    "##changing classes also effect the PCA results\n",
    "\n"
   ]
  },
  {
   "cell_type": "code",
   "execution_count": 4,
   "metadata": {},
   "outputs": [],
   "source": [
    "##Change test_size for different results\n",
    "x_train,x_test,y_train,y_test=train_test_split(X,Y,test_size=0.20,random_state=3)\n"
   ]
  },
  {
   "cell_type": "markdown",
   "metadata": {},
   "source": [
    "<h2>Fitting model</h2>"
   ]
  },
  {
   "cell_type": "code",
   "execution_count": 5,
   "metadata": {},
   "outputs": [
    {
     "name": "stderr",
     "output_type": "stream",
     "text": [
      "D:\\Anaconda\\lib\\site-packages\\sklearn\\neural_network\\multilayer_perceptron.py:566: ConvergenceWarning: Stochastic Optimizer: Maximum iterations (200) reached and the optimization hasn't converged yet.\n",
      "  % self.max_iter, ConvergenceWarning)\n"
     ]
    },
    {
     "data": {
      "text/plain": [
       "MLPClassifier(activation='tanh', alpha=0.0001, batch_size='auto', beta_1=0.9,\n",
       "              beta_2=0.999, early_stopping=False, epsilon=1e-08,\n",
       "              hidden_layer_sizes=30, learning_rate='constant',\n",
       "              learning_rate_init=0.001, max_iter=200, momentum=0.9,\n",
       "              n_iter_no_change=10, nesterovs_momentum=True, power_t=0.5,\n",
       "              random_state=1, shuffle=True, solver='sgd', tol=0.0001,\n",
       "              validation_fraction=0.1, verbose=False, warm_start=False)"
      ]
     },
     "execution_count": 5,
     "metadata": {},
     "output_type": "execute_result"
    }
   ],
   "source": [
    "##change activation function,solver,hidden_layer_sizes,max_iter and learning rate for different results\n",
    "## N represent the number of neurons in each later   hidden_layer_size(N,N,N.....) ie\n",
    "##ie hidden_layer_size(20,20) represents two layers with 20 neurons\n",
    "\n",
    "\n",
    "activation=\"tanh\"##activation{‘identity’, ‘logistic’, ‘tanh’, ‘relu’}, default=’relu’\n",
    "solver=\"sgd\"##  solver{‘lbfgs’, ‘sgd’, ‘adam’}, default=’adam’\n",
    "max_iter=200 ##max_iterint, default=200 note:increasing max iter can take longer time to proccess\n",
    "learning_rate_init=0.001\n",
    "nn=MLPClassifier(activation=activation,solver=solver,hidden_layer_sizes=(30),random_state=1,\n",
    "max_iter=max_iter,learning_rate_init=learning_rate_init)\n",
    "nn.fit(x_train,y_train)"
   ]
  },
  {
   "cell_type": "markdown",
   "metadata": {},
   "source": [
    "<h1>Predicting and accuracy results</h1>"
   ]
  },
  {
   "cell_type": "code",
   "execution_count": 6,
   "metadata": {},
   "outputs": [
    {
     "name": "stdout",
     "output_type": "stream",
     "text": [
      "Predicted value:  7\n",
      "Real value:  7\n"
     ]
    },
    {
     "data": {
      "image/png": "[encoded data removed]",
      "text/plain": [
       "<Figure size 432x288 with 1 Axes>"
      ]
     },
     "metadata": {
      "needs_background": "light"
     },
     "output_type": "display_data"
    },
    {
     "name": "stdout",
     "output_type": "stream",
     "text": [
      "Predicted value:  4\n",
      "Real value:  4\n"
     ]
    },
    {
     "data": {
      "image/png": "[encoded data removed]",
      "text/plain": [
       "<Figure size 432x288 with 1 Axes>"
      ]
     },
     "metadata": {
      "needs_background": "light"
     },
     "output_type": "display_data"
    },
    {
     "name": "stdout",
     "output_type": "stream",
     "text": [
      "Predicted value:  2\n",
      "Real value:  2\n"
     ]
    },
    {
     "data": {
      "image/png": "[encoded data removed]",
      "text/plain": [
       "<Figure size 432x288 with 1 Axes>"
      ]
     },
     "metadata": {
      "needs_background": "light"
     },
     "output_type": "display_data"
    },
    {
     "name": "stdout",
     "output_type": "stream",
     "text": [
      "Predicted value:  5\n",
      "Real value:  5\n"
     ]
    },
    {
     "data": {
      "image/png": "[encoded data removed]",
      "text/plain": [
       "<Figure size 432x288 with 1 Axes>"
      ]
     },
     "metadata": {
      "needs_background": "light"
     },
     "output_type": "display_data"
    },
    {
     "name": "stdout",
     "output_type": "stream",
     "text": [
      "Predicted value:  3\n",
      "Real value:  3\n"
     ]
    },
    {
     "data": {
      "image/png": "[encoded data removed]",
      "text/plain": [
       "<Figure size 432x288 with 1 Axes>"
      ]
     },
     "metadata": {
      "needs_background": "light"
     },
     "output_type": "display_data"
    },
    {
     "name": "stdout",
     "output_type": "stream",
     "text": [
      "[[74  0  1  0  0  1  2  0  0  0]\n",
      " [ 0 96  0  1  0  0  0  0  0  0]\n",
      " [ 0  0 60  0  2  0  0  2  2  0]\n",
      " [ 2  0  4 73  1  6  1  1  1  1]\n",
      " [ 0  0  2  0 59  0  2  0  0  3]\n",
      " [ 2  0  1  4  0 51  2  1  4  0]\n",
      " [ 0  0  1  0  0  0 86  0  0  0]\n",
      " [ 0  2  2  2  3  1  0 77  2  2]\n",
      " [ 0  2  1  4  1  2  0  4 61  2]\n",
      " [ 1  0  0  2  3  0  0  3  1 73]]\n"
     ]
    },
    {
     "data": {
      "image/png": "[encoded data removed]",
      "text/plain": [
       "<Figure size 288x288 with 2 Axes>"
      ]
     },
     "metadata": {
      "needs_background": "light"
     },
     "output_type": "display_data"
    }
   ],
   "source": [
    "pred=nn.predict(x_test)\n",
    "accuracy=accuracy_score(y_test,pred)\n",
    "numberof_images_display=5\n",
    "n= np.random.randint(0,len(x_test),numberof_images_display)\n",
    "for i in n:\n",
    "    two_d = (np.reshape(x_test[i], (28, 28)) * 255).astype(np.uint8)\n",
    "    print(\"Predicted value: \",pred[i])\n",
    "    print(\"Real value: \",y_test[i])\n",
    "                                                \n",
    "    plt.imshow(two_d, interpolation='nearest',cmap='gray')\n",
    "    plt.show()\n",
    "\n",
    "\n",
    "confusionmatrix=confusion_matrix(y_test,pred)\n",
    "\n",
    "plt.matshow(confusionmatrix)\n",
    "print(confusionmatrix)\n",
    "plt.title('Confusion Matrix for Validation Data')\n",
    "plt.colorbar()\n",
    "plt.ylabel('True label')\n",
    "plt.xlabel('Predicted label')\n",
    "plt.show()\n"
   ]
  },
  {
   "cell_type": "code",
   "execution_count": 7,
   "metadata": {},
   "outputs": [
    {
     "name": "stdout",
     "output_type": "stream",
     "text": [
      "Accuracy:  0.8875\n"
     ]
    }
   ],
   "source": [
    "print(\"Accuracy: \",accuracy)"
   ]
  },
  {
   "cell_type": "markdown",
   "metadata": {},
   "source": [
    "<h1>Running PCA in Dataset</h1>"
   ]
  },
  {
   "cell_type": "code",
   "execution_count": 8,
   "metadata": {},
   "outputs": [],
   "source": [
    "##change number of dimentions also for getting different results\n",
    "N_dimentions=30\n",
    "pca = PCA(n_components=N_dimentions, svd_solver='randomized',\n",
    "          whiten=True).fit(x_train)\n",
    "\n",
    "\n",
    "x_train_pca = pca.transform(x_train)\n",
    "x_test_pca=pca.transform(x_test)"
   ]
  },
  {
   "cell_type": "markdown",
   "metadata": {},
   "source": [
    "<h2>Fitting model with PCA results</h2>"
   ]
  },
  {
   "cell_type": "code",
   "execution_count": 9,
   "metadata": {},
   "outputs": [
    {
     "name": "stderr",
     "output_type": "stream",
     "text": [
      "D:\\Anaconda\\lib\\site-packages\\sklearn\\neural_network\\multilayer_perceptron.py:566: ConvergenceWarning: Stochastic Optimizer: Maximum iterations (200) reached and the optimization hasn't converged yet.\n",
      "  % self.max_iter, ConvergenceWarning)\n"
     ]
    },
    {
     "data": {
      "text/plain": [
       "MLPClassifier(activation='tanh', alpha=0.0001, batch_size='auto', beta_1=0.9,\n",
       "              beta_2=0.999, early_stopping=False, epsilon=1e-08,\n",
       "              hidden_layer_sizes=30, learning_rate='constant',\n",
       "              learning_rate_init=0.001, max_iter=200, momentum=0.9,\n",
       "              n_iter_no_change=10, nesterovs_momentum=True, power_t=0.5,\n",
       "              random_state=1, shuffle=True, solver='sgd', tol=0.0001,\n",
       "              validation_fraction=0.1, verbose=False, warm_start=False)"
      ]
     },
     "execution_count": 9,
     "metadata": {},
     "output_type": "execute_result"
    }
   ],
   "source": [
    "##change activation function,solver,hidden_layer_sizes,max_iter and learning rate for different results\n",
    "## N represent the number of neurons in each later   hidden_layer_size(N,N,N.....) ie\n",
    "##ie hidden_layer_size(20,20) represents two layers with 20 neurons\n",
    "\n",
    "\n",
    "activation=\"tanh\"##activation{‘identity’, ‘logistic’, ‘tanh’, ‘relu’}, default=’relu’\n",
    "solver=\"sgd\"##  solver{‘lbfgs’, ‘sgd’, ‘adam’}, default=’adam’\n",
    "max_iter=200 ##max_iterint, default=200 note:increasing max iter can take longer time to proccess\n",
    "learning_rate_init=0.001\n",
    "nn=MLPClassifier(activation=activation,solver=solver,hidden_layer_sizes=(30),random_state=1,\n",
    "max_iter=max_iter,learning_rate_init=learning_rate_init)\n",
    "nn.fit(x_train_pca,y_train)"
   ]
  },
  {
   "cell_type": "markdown",
   "metadata": {},
   "source": [
    "<h1>Predicting and accuracy results with PCA included</h1>"
   ]
  },
  {
   "cell_type": "code",
   "execution_count": 10,
   "metadata": {},
   "outputs": [
    {
     "name": "stdout",
     "output_type": "stream",
     "text": [
      "Predicted value:  5\n",
      "Real value:  5\n"
     ]
    },
    {
     "data": {
      "image/png": "[encoded data removed]",
      "text/plain": [
       "<Figure size 432x288 with 1 Axes>"
      ]
     },
     "metadata": {
      "needs_background": "light"
     },
     "output_type": "display_data"
    },
    {
     "name": "stdout",
     "output_type": "stream",
     "text": [
      "Predicted value:  4\n",
      "Real value:  4\n"
     ]
    },
    {
     "data": {
      "image/png": "[encoded data removed]",
      "text/plain": [
       "<Figure size 432x288 with 1 Axes>"
      ]
     },
     "metadata": {
      "needs_background": "light"
     },
     "output_type": "display_data"
    },
    {
     "name": "stdout",
     "output_type": "stream",
     "text": [
      "Predicted value:  2\n",
      "Real value:  2\n"
     ]
    },
    {
     "data": {
      "image/png": "[encoded data removed]",
      "text/plain": [
       "<Figure size 432x288 with 1 Axes>"
      ]
     },
     "metadata": {
      "needs_background": "light"
     },
     "output_type": "display_data"
    },
    {
     "name": "stdout",
     "output_type": "stream",
     "text": [
      "Predicted value:  1\n",
      "Real value:  1\n"
     ]
    },
    {
     "data": {
      "image/png": "[encoded data removed]",
      "text/plain": [
       "<Figure size 432x288 with 1 Axes>"
      ]
     },
     "metadata": {
      "needs_background": "light"
     },
     "output_type": "display_data"
    },
    {
     "name": "stdout",
     "output_type": "stream",
     "text": [
      "Predicted value:  6\n",
      "Real value:  6\n"
     ]
    },
    {
     "data": {
      "image/png": "[encoded data removed]",
      "text/plain": [
       "<Figure size 432x288 with 1 Axes>"
      ]
     },
     "metadata": {
      "needs_background": "light"
     },
     "output_type": "display_data"
    },
    {
     "name": "stdout",
     "output_type": "stream",
     "text": [
      "[[69  0  1  0  0  3  5  0  0  0]\n",
      " [ 0 94  1  0  0  0  0  1  1  0]\n",
      " [ 0  1 60  0  1  0  1  1  1  1]\n",
      " [ 1  3  1 76  0  3  1  0  0  5]\n",
      " [ 0  0  2  0 60  1  0  0  0  3]\n",
      " [ 4  0  1  4  1 48  2  0  5  0]\n",
      " [ 0  0  1  0  1  0 85  0  0  0]\n",
      " [ 1  3  1  1  5  0  0 79  0  1]\n",
      " [ 1  3  1  8  0  0  3  0 58  3]\n",
      " [ 0  0  0  1  6  0  0  2  3 71]]\n"
     ]
    },
    {
     "data": {
      "image/png": "[encoded data removed]",
      "text/plain": [
       "<Figure size 288x288 with 2 Axes>"
      ]
     },
     "metadata": {
      "needs_background": "light"
     },
     "output_type": "display_data"
    }
   ],
   "source": [
    "pred=nn.predict(x_test_pca)\n",
    "accuracy=accuracy_score(y_test,pred)\n",
    "numberof_images_display=5\n",
    "n= np.random.randint(0,len(x_test_pca),numberof_images_display)\n",
    "for i in n:\n",
    "    two_d = (np.reshape(x_test[i], (28, 28)) * 255).astype(np.uint8)\n",
    "    print(\"Predicted value: \",pred[i])\n",
    "    print(\"Real value: \",y_test[i])\n",
    "    plt.imshow(two_d, interpolation='nearest',cmap='gray')\n",
    "    plt.show()  \n",
    "    ##plt.imshow(two_d, interpolation='nearest',cmap='gray')\n",
    "   ## plt.show()\n",
    "\n",
    "confusionmatrix=confusion_matrix(y_test,pred)\n",
    "plt.matshow(confusionmatrix)\n",
    "print(confusionmatrix)\n",
    "plt.title('Confusion Matrix for Validation Data')\n",
    "plt.colorbar()\n",
    "plt.ylabel('True label')\n",
    "plt.xlabel('Predicted label')\n",
    "plt.show()"
   ]
  },
  {
   "cell_type": "code",
   "execution_count": 11,
   "metadata": {},
   "outputs": [
    {
     "name": "stdout",
     "output_type": "stream",
     "text": [
      "accuracy 0.875\n"
     ]
    }
   ],
   "source": [
    "print(\"accuracy\",accuracy)"
   ]
  }
 ],
 "metadata": {
  "kernelspec": {
   "display_name": "Python 3",
   "language": "python",
   "name": "python3"
  },
  "language_info": {
   "codemirror_mode": {
    "name": "ipython",
    "version": 3
   },
   "file_extension": ".py",
   "mimetype": "text/x-python",
   "name": "python",
   "nbconvert_exporter": "python",
   "pygments_lexer": "ipython3",
   "version": "3.7.4"
  }
 },
 "nbformat": 4,
 "nbformat_minor": 2
}
